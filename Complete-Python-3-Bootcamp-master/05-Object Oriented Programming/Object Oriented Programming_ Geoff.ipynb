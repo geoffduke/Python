{
 "cells": [
  {
   "cell_type": "code",
   "execution_count": null,
   "metadata": {},
   "outputs": [],
   "source": [
    "#polymorphism"
   ]
  },
  {
   "cell_type": "code",
   "execution_count": 12,
   "metadata": {},
   "outputs": [
    {
     "name": "stdout",
     "output_type": "stream",
     "text": [
      "Niko says Woof!\n",
      "Felix says Meow!\n"
     ]
    }
   ],
   "source": [
    "class Dog:\n",
    "    def __init__(self, name):\n",
    "        self.name = name\n",
    "\n",
    "    def speak(self):\n",
    "        return self.name+' says Woof!'\n",
    "    \n",
    "class Cat:\n",
    "    def __init__(self, name):\n",
    "        self.name = name\n",
    "\n",
    "    def speak(self):\n",
    "        return self.name+' says Meow!' \n",
    "    \n",
    "niko = Dog('Niko')\n",
    "felix = Cat('Felix')\n",
    "\n",
    "print(niko.speak())\n",
    "print(felix.speak())"
   ]
  },
  {
   "cell_type": "code",
   "execution_count": 13,
   "metadata": {},
   "outputs": [
    {
     "name": "stdout",
     "output_type": "stream",
     "text": [
      "Niko says Woof!\n",
      "Felix says Meow!\n"
     ]
    }
   ],
   "source": [
    "for pet in [niko,felix]:\n",
    "    print(pet.speak())"
   ]
  },
  {
   "cell_type": "code",
   "execution_count": 14,
   "metadata": {},
   "outputs": [
    {
     "name": "stdout",
     "output_type": "stream",
     "text": [
      "Fido says Woof!\n",
      "Isis says Meow!\n"
     ]
    }
   ],
   "source": [
    "class Animal:\n",
    "    def __init__(self, name):    # Constructor of the class\n",
    "        self.name = name\n",
    "\n",
    "    def speak(self):              # Abstract method, defined by convention only\n",
    "        raise NotImplementedError(\"Subclass must implement abstract method\")\n",
    "\n",
    "\n",
    "class Dog(Animal):\n",
    "    \n",
    "    def speak(self):\n",
    "        return self.name+' says Woof!'\n",
    "    \n",
    "class Cat(Animal):\n",
    "\n",
    "    def speak(self):\n",
    "        return self.name+' says Meow!'\n",
    "    \n",
    "fido = Dog('Fido')\n",
    "isis = Cat('Isis')\n",
    "\n",
    "print(fido.speak())\n",
    "print(isis.speak())"
   ]
  },
  {
   "cell_type": "code",
   "execution_count": 17,
   "metadata": {},
   "outputs": [],
   "source": [
    "class BankAccount:\n",
    "    \"\"\" Class for Bank Accounts\"\"\"\n",
    "\n",
    "    type = 'Normal Account'    # variable shared by all objects of the class\n",
    "\n",
    "    def __init__(self, name):  # This method is used to initialize an object on its creation\n",
    "        # default variables unique to each object:\n",
    "        self.userName = name\n",
    "        self.balance = 0.0\n",
    "\n",
    "    # Object Methods:\n",
    "\n",
    "    def showBalance(self):\n",
    "        print (self.balance)\n",
    "        return\n",
    "\n",
    "    def withdrawMoney(self, amount):\n",
    "        self.balance -= amount\n",
    "        return\n",
    "\n",
    "    def depositMoney(self, amount):\n",
    "        self.balance += amount\n",
    "        return"
   ]
  },
  {
   "cell_type": "code",
   "execution_count": 24,
   "metadata": {},
   "outputs": [
    {
     "name": "stdout",
     "output_type": "stream",
     "text": [
      "Im 1\n",
      "Me 2\n",
      "100.0\n",
      "200.0\n",
      "100.0\n",
      "200.0\n",
      "Normal Account\n",
      "Normal Account\n"
     ]
    }
   ],
   "source": [
    "object1 = BankAccount(\"Im 1\")    # create new instance of ClassName\n",
    "object2 = BankAccount(\"Me 2\")    # create another instance\n",
    "\n",
    "# access object properties\n",
    "print (object1.userName)    #'Im 1'\n",
    "print (object2.userName)    #'Me 2'\n",
    "\n",
    "# access object methods\n",
    "object1.depositMoney(100)\n",
    "object2.depositMoney(200)\n",
    "\n",
    "print (object1.balance)    # 'Im 1'\n",
    "print (object2.balance )   # 'Me 2'\n",
    "# same as:\n",
    "object1.showBalance()    # 100\n",
    "object2.showBalance()    # 200\n",
    "\n",
    "print (object1.type)    # 'Normal Account'\n",
    "print (object2.type)    # 'Normal Account'"
   ]
  },
  {
   "cell_type": "code",
   "execution_count": 25,
   "metadata": {},
   "outputs": [
    {
     "name": "stdout",
     "output_type": "stream",
     "text": [
      "secret\n"
     ]
    },
    {
     "ename": "AttributeError",
     "evalue": "'BankAccount' object has no attribute 'discount_code'",
     "output_type": "error",
     "traceback": [
      "\u001b[1;31m---------------------------------------------------------------------------\u001b[0m",
      "\u001b[1;31mAttributeError\u001b[0m                            Traceback (most recent call last)",
      "\u001b[1;32m<ipython-input-25-8b779d139dfb>\u001b[0m in \u001b[0;36m<module>\u001b[1;34m()\u001b[0m\n\u001b[0;32m      2\u001b[0m \u001b[1;33m\u001b[0m\u001b[0m\n\u001b[0;32m      3\u001b[0m \u001b[0mprint\u001b[0m \u001b[1;33m(\u001b[0m\u001b[0mobject1\u001b[0m\u001b[1;33m.\u001b[0m\u001b[0mdiscount_code\u001b[0m\u001b[1;33m)\u001b[0m    \u001b[1;31m# 'secret'\u001b[0m\u001b[1;33m\u001b[0m\u001b[0m\n\u001b[1;32m----> 4\u001b[1;33m \u001b[0mprint\u001b[0m \u001b[1;33m(\u001b[0m\u001b[0mobject2\u001b[0m\u001b[1;33m.\u001b[0m\u001b[0mdiscount_code\u001b[0m\u001b[1;33m)\u001b[0m    \u001b[1;31m# Throws Error: AttributeError: object2 instance has no attribute 'discount_code'\u001b[0m\u001b[1;33m\u001b[0m\u001b[0m\n\u001b[0m\u001b[0;32m      5\u001b[0m \u001b[1;33m\u001b[0m\u001b[0m\n",
      "\u001b[1;31mAttributeError\u001b[0m: 'BankAccount' object has no attribute 'discount_code'"
     ]
    }
   ],
   "source": [
    "object1.discount_code = 'secret'\n",
    "\n",
    "print (object1.discount_code)    # 'secret'\n",
    "print (object2.discount_code)    # Throws Error: AttributeError: object2 instance has no attribute 'discount_code'\n",
    "\n",
    "del object1.discount_code    # back to how it originally was"
   ]
  },
  {
   "cell_type": "code",
   "execution_count": 27,
   "metadata": {},
   "outputs": [
    {
     "name": "stdout",
     "output_type": "stream",
     "text": [
      "<class '__main__.BankAccount'>\n",
      "<class 'str'>\n"
     ]
    }
   ],
   "source": [
    "account3 = BankAccount('Me 3')\n",
    "print (account3.__class__ )   # __main__.BankAccount\n",
    "\n",
    "string = 'Cat'\n",
    "print (string.__class__)        # <type 'str'>"
   ]
  },
  {
   "cell_type": "code",
   "execution_count": null,
   "metadata": {},
   "outputs": [],
   "source": []
  }
 ],
 "metadata": {
  "kernelspec": {
   "display_name": "Python 3",
   "language": "python",
   "name": "python3"
  },
  "language_info": {
   "codemirror_mode": {
    "name": "ipython",
    "version": 3
   },
   "file_extension": ".py",
   "mimetype": "text/x-python",
   "name": "python",
   "nbconvert_exporter": "python",
   "pygments_lexer": "ipython3",
   "version": "3.6.4"
  }
 },
 "nbformat": 4,
 "nbformat_minor": 2
}
