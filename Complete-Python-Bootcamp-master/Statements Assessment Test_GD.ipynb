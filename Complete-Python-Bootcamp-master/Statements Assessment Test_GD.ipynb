{
 "cells": [
  {
   "cell_type": "code",
   "execution_count": 5,
   "metadata": {},
   "outputs": [
    {
     "name": "stdout",
     "output_type": "stream",
     "text": [
      "start\n",
      "s\n",
      "sentence\n"
     ]
    }
   ],
   "source": [
    "st = 'Print only the words that start with s in this sentence'\n",
    "\n",
    "for word in st .split():\n",
    "     if word[0]== \"s\":\n",
    "        print word"
   ]
  },
  {
   "cell_type": "code",
   "execution_count": 6,
   "metadata": {},
   "outputs": [
    {
     "name": "stdout",
     "output_type": "stream",
     "text": [
      "p\n",
      "practice\n"
     ]
    }
   ],
   "source": [
    "st  = 'Print only the words that begin with p in this practice sentance'\n",
    "\n",
    "for word in st.split():\n",
    "    if word[0]=='p':\n",
    "        print word"
   ]
  },
  {
   "cell_type": "code",
   "execution_count": 8,
   "metadata": {},
   "outputs": [
    {
     "name": "stdout",
     "output_type": "stream",
     "text": [
      "common\n",
      "c\n"
     ]
    }
   ],
   "source": [
    "st = 'This is a pretty common sentance so pick out the words beginning with c'\n",
    "\n",
    "for word in st .split():\n",
    "    if word [0]== 'c':\n",
    "        print word"
   ]
  },
  {
   "cell_type": "code",
   "execution_count": null,
   "metadata": {
    "collapsed": true
   },
   "outputs": [],
   "source": [
    "# write a program that prints the integers from 0 to 100. \n",
    "#For numbers that are multiples of five write Fizz  and for \n",
    "#numbers that are multiples of 10 write  Buzz and for numbers \n",
    "#that are multiples of five and 10 write Fizzbuzz"
   ]
  },
  {
   "cell_type": "code",
   "execution_count": 17,
   "metadata": {},
   "outputs": [
    {
     "name": "stdout",
     "output_type": "stream",
     "text": [
      "Fives and Tens\n",
      "1\n",
      "2\n",
      "3\n",
      "4\n",
      "Fives only\n",
      "6\n",
      "7\n",
      "8\n",
      "9\n",
      "Fives and Tens\n",
      "11\n",
      "12\n",
      "13\n",
      "14\n",
      "Fives only\n",
      "16\n",
      "17\n",
      "18\n",
      "19\n",
      "Fives and Tens\n",
      "21\n",
      "22\n",
      "23\n",
      "24\n",
      "Fives only\n",
      "26\n",
      "27\n",
      "28\n",
      "29\n",
      "Fives and Tens\n",
      "31\n",
      "32\n",
      "33\n",
      "34\n",
      "Fives only\n",
      "36\n",
      "37\n",
      "38\n",
      "39\n",
      "Fives and Tens\n",
      "41\n",
      "42\n",
      "43\n",
      "44\n",
      "Fives only\n",
      "46\n",
      "47\n",
      "48\n",
      "49\n",
      "Fives and Tens\n"
     ]
    }
   ],
   "source": [
    "for num in xrange(0,51):\n",
    "    if num %5 == 0 and num %10 == 0:\n",
    "        print \"Fives and Tens\"\n",
    "    elif num %5 == 0:\n",
    "        print \"Fives only\"\n",
    "    elif num %10 == 0:\n",
    "        print \"tens only\"\n",
    "    else:\n",
    "        print num"
   ]
  },
  {
   "cell_type": "code",
   "execution_count": 22,
   "metadata": {
    "collapsed": true
   },
   "outputs": [],
   "source": [
    "#Use List comprehension to create a list of all numbers between \n",
    "#1 and 50 that are divisible by a chosen number"
   ]
  },
  {
   "cell_type": "code",
   "execution_count": 21,
   "metadata": {},
   "outputs": [
    {
     "data": {
      "text/plain": [
       "[3, 6, 9, 12, 15, 18, 21, 24, 27, 30, 33, 36, 39, 42, 45, 48]"
      ]
     },
     "execution_count": 21,
     "metadata": {},
     "output_type": "execute_result"
    }
   ],
   "source": [
    "[ x for x in range(1,51) if x%3 ==0]"
   ]
  },
  {
   "cell_type": "code",
   "execution_count": 23,
   "metadata": {},
   "outputs": [
    {
     "data": {
      "text/plain": [
       "[5, 10, 15, 20, 25, 30, 35, 40, 45, 50]"
      ]
     },
     "execution_count": 23,
     "metadata": {},
     "output_type": "execute_result"
    }
   ],
   "source": [
    "[x for x in range (1,51) if x %5==0]"
   ]
  },
  {
   "cell_type": "code",
   "execution_count": 25,
   "metadata": {},
   "outputs": [
    {
     "data": {
      "text/plain": [
       "[10, 20, 30, 40, 50, 60, 70, 80, 90, 100]"
      ]
     },
     "execution_count": 25,
     "metadata": {},
     "output_type": "execute_result"
    }
   ],
   "source": [
    "[x for x in range (1,101) if x%10==0]"
   ]
  },
  {
   "cell_type": "code",
   "execution_count": 26,
   "metadata": {},
   "outputs": [
    {
     "data": {
      "text/plain": [
       "[6, 12, 18, 24, 30, 36, 42, 48, 54, 60, 66, 72, 78, 84, 90, 96]"
      ]
     },
     "execution_count": 26,
     "metadata": {},
     "output_type": "execute_result"
    }
   ],
   "source": [
    "[x for x in range (1, 101) if x%6 ==0]"
   ]
  },
  {
   "cell_type": "code",
   "execution_count": 27,
   "metadata": {},
   "outputs": [
    {
     "data": {
      "text/plain": [
       "[7, 14, 21, 28, 35, 42, 49, 56, 63, 70, 77, 84, 91, 98]"
      ]
     },
     "execution_count": 27,
     "metadata": {},
     "output_type": "execute_result"
    }
   ],
   "source": [
    "[x for x in range(1,101) if x %7 ==0]"
   ]
  },
  {
   "cell_type": "code",
   "execution_count": 37,
   "metadata": {},
   "outputs": [
    {
     "name": "stdout",
     "output_type": "stream",
     "text": [
      "p\n",
      "practice\n"
     ]
    }
   ],
   "source": [
    "st  = 'Print only the words that begin with p in this practice sentance'\n",
    "\n",
    "for word in st .split():\n",
    "    if word[0] ==  'p':\n",
    "        print word"
   ]
  },
  {
   "cell_type": "code",
   "execution_count": 39,
   "metadata": {},
   "outputs": [
    {
     "name": "stdout",
     "output_type": "stream",
     "text": [
      "s\n",
      "sentance\n"
     ]
    }
   ],
   "source": [
    "st  = 'Print only the words that begin with s in this practice sentance'\n",
    "\n",
    "for word in st .split():\n",
    "    if word[0] == 's':\n",
    "        print word"
   ]
  },
  {
   "cell_type": "code",
   "execution_count": 41,
   "metadata": {},
   "outputs": [
    {
     "data": {
      "text/plain": [
       "[3, 6, 9, 12, 15, 18, 21, 24, 27, 30, 33, 36, 39, 42, 45, 48]"
      ]
     },
     "execution_count": 41,
     "metadata": {},
     "output_type": "execute_result"
    }
   ],
   "source": [
    "[x for x in range(1,50)if x %3==0]"
   ]
  },
  {
   "cell_type": "code",
   "execution_count": 42,
   "metadata": {},
   "outputs": [
    {
     "data": {
      "text/plain": [
       "[10, 20, 30, 40, 50, 60, 70, 80, 90, 100]"
      ]
     },
     "execution_count": 42,
     "metadata": {},
     "output_type": "execute_result"
    }
   ],
   "source": [
    "[x for x in range (1,101)if x %10 ==0]"
   ]
  },
  {
   "cell_type": "code",
   "execution_count": 46,
   "metadata": {},
   "outputs": [
    {
     "name": "stdout",
     "output_type": "stream",
     "text": [
      "Ooh vada\n",
      "Ooh vada\n",
      "Ooh vada\n",
      "Ooh vada\n",
      "Ooh vada\n",
      "Ooh vada\n",
      "Ooh vada\n",
      "Ooh vada\n",
      "Ooh vada\n",
      "Ooh vada\n"
     ]
    }
   ],
   "source": [
    "for num in xrange(1,51):\n",
    "\n",
    "    if num %5 == 0:\n",
    "        print 'Ooh vada'"
   ]
  },
  {
   "cell_type": "code",
   "execution_count": 2,
   "metadata": {},
   "outputs": [
    {
     "ename": "NameError",
     "evalue": "name 'st' is not defined",
     "output_type": "error",
     "traceback": [
      "\u001b[1;31m---------------------------------------------------------------------------\u001b[0m",
      "\u001b[1;31mNameError\u001b[0m                                 Traceback (most recent call last)",
      "\u001b[1;32m<ipython-input-2-6deb08510605>\u001b[0m in \u001b[0;36m<module>\u001b[1;34m()\u001b[0m\n\u001b[1;32m----> 1\u001b[1;33m \u001b[0mst\u001b[0m\u001b[1;33m(\u001b[0m\u001b[1;33m)\u001b[0m\u001b[1;33m\u001b[0m\u001b[0m\n\u001b[0m",
      "\u001b[1;31mNameError\u001b[0m: name 'st' is not defined"
     ]
    }
   ],
   "source": [
    "st()\n"
   ]
  },
  {
   "cell_type": "code",
   "execution_count": 4,
   "metadata": {},
   "outputs": [
    {
     "name": "stdout",
     "output_type": "stream",
     "text": [
      "sentance\n",
      "s\n"
     ]
    }
   ],
   "source": [
    "st = 'Print only the words in this sentance that begin with the letter s'\n",
    "\n",
    "for word in st .split():\n",
    "    if word[0] =='s':\n",
    "        print word"
   ]
  },
  {
   "cell_type": "code",
   "execution_count": 12,
   "metadata": {},
   "outputs": [
    {
     "name": "stdout",
     "output_type": "stream",
     "text": [
      "pappa\n",
      "poaches\n",
      "pickled\n",
      "peppers\n"
     ]
    }
   ],
   "source": [
    "st = 'pappa poaches pickled peppers for a living but makes nowt'\n",
    "for word in st .split():\n",
    "    if word[0] =='p':\n",
    "        print word"
   ]
  },
  {
   "cell_type": "code",
   "execution_count": 16,
   "metadata": {},
   "outputs": [
    {
     "data": {
      "text/plain": [
       "[10, 20, 30, 40, 50, 60, 70, 80, 90, 100]"
      ]
     },
     "execution_count": 16,
     "metadata": {},
     "output_type": "execute_result"
    }
   ],
   "source": [
    "[y for y in xrange(1,101) if y %10 == 0]"
   ]
  },
  {
   "cell_type": "code",
   "execution_count": 18,
   "metadata": {},
   "outputs": [
    {
     "data": {
      "text/plain": [
       "[10, 20, 30, 40, 50, 60, 70, 80, 90]"
      ]
     },
     "execution_count": 18,
     "metadata": {},
     "output_type": "execute_result"
    }
   ],
   "source": [
    "[p for p in xrange (10,100) if p %10 ==0]"
   ]
  },
  {
   "cell_type": "code",
   "execution_count": 19,
   "metadata": {},
   "outputs": [
    {
     "name": "stdout",
     "output_type": "stream",
     "text": [
      "now\n",
      "not\n"
     ]
    }
   ],
   "source": [
    "string = 'Tak me outside and shoot me now as php is not as easy as first thought'\n",
    "\n",
    "for word in string .split():\n",
    "    if word[0] == 'n':\n",
    "        print word"
   ]
  },
  {
   "cell_type": "code",
   "execution_count": null,
   "metadata": {
    "collapsed": true
   },
   "outputs": [],
   "source": []
  },
  {
   "cell_type": "code",
   "execution_count": 21,
   "metadata": {},
   "outputs": [
    {
     "name": "stdout",
     "output_type": "stream",
     "text": [
      "Fives and Tens\n",
      "1\n",
      "2\n",
      "3\n",
      "4\n",
      "Fives only\n",
      "6\n",
      "7\n",
      "8\n",
      "9\n",
      "Fives and Tens\n",
      "11\n",
      "12\n",
      "13\n",
      "14\n",
      "Fives only\n",
      "16\n",
      "17\n",
      "18\n",
      "19\n",
      "Fives and Tens\n"
     ]
    }
   ],
   "source": [
    "for num in xrange(0,21):\n",
    "    if num %5 == 0 and num %10 == 0:\n",
    "        print \"Fives and Tens\"\n",
    "    elif num %5 == 0:\n",
    "        print \"Fives only\"\n",
    "    elif num %10 == 0:\n",
    "        print \"tens only\"\n",
    "    else:\n",
    "        print num"
   ]
  },
  {
   "cell_type": "code",
   "execution_count": 25,
   "metadata": {},
   "outputs": [
    {
     "name": "stdout",
     "output_type": "stream",
     "text": [
      "divisible by 2 and 10\n",
      "1\n",
      "2\n",
      "3\n",
      "4\n",
      "Only divisible by 5\n",
      "Only divisible by 6\n",
      "7\n",
      "8\n",
      "9\n",
      "divisible by 2 and 10\n",
      "11\n",
      "Only divisible by 6\n",
      "13\n",
      "14\n",
      "Only divisible by 5\n",
      "16\n",
      "17\n",
      "Only divisible by 6\n",
      "19\n",
      "divisible by 2 and 10\n",
      "21\n",
      "22\n",
      "23\n",
      "Only divisible by 6\n",
      "Only divisible by 5\n",
      "26\n",
      "27\n",
      "28\n",
      "29\n",
      "divisible by 2 and 10\n",
      "31\n",
      "32\n",
      "33\n",
      "34\n",
      "Only divisible by 5\n",
      "Only divisible by 6\n",
      "37\n",
      "38\n",
      "39\n",
      "divisible by 2 and 10\n",
      "41\n",
      "Only divisible by 6\n",
      "43\n",
      "44\n",
      "Only divisible by 5\n",
      "46\n",
      "47\n",
      "Only divisible by 6\n",
      "49\n",
      "divisible by 2 and 10\n"
     ]
    }
   ],
   "source": [
    "for num in xrange(0,51):\n",
    "    if num %2 ==0 and num %10 ==0:\n",
    "        print 'divisible by 2 and 10'\n",
    "    elif num%5 ==0:\n",
    "        print 'Only divisible by 5'\n",
    "    elif num %6 ==0:\n",
    "        print 'Only divisible by 6'\n",
    "    else:\n",
    "        print num"
   ]
  },
  {
   "cell_type": "code",
   "execution_count": 31,
   "metadata": {},
   "outputs": [
    {
     "data": {
      "text/plain": [
       "[0, 5, 10, 15, 20, 25, 30, 35, 40, 45, 50]"
      ]
     },
     "execution_count": 31,
     "metadata": {},
     "output_type": "execute_result"
    }
   ],
   "source": [
    "range(0,51,5)"
   ]
  },
  {
   "cell_type": "code",
   "execution_count": 35,
   "metadata": {},
   "outputs": [
    {
     "data": {
      "text/plain": [
       "[0, 10, 20, 30, 40, 50, 60, 70, 80, 90, 100]"
      ]
     },
     "execution_count": 35,
     "metadata": {},
     "output_type": "execute_result"
    }
   ],
   "source": [
    "[x for x in xrange(0,101) if x %10 ==0]"
   ]
  },
  {
   "cell_type": "code",
   "execution_count": 36,
   "metadata": {},
   "outputs": [
    {
     "data": {
      "text/plain": [
       "[250, 300, 350, 400, 450]"
      ]
     },
     "execution_count": 36,
     "metadata": {},
     "output_type": "execute_result"
    }
   ],
   "source": [
    "[x for  x in range (250,500) if x %50 ==0]"
   ]
  },
  {
   "cell_type": "code",
   "execution_count": null,
   "metadata": {
    "collapsed": true
   },
   "outputs": [],
   "source": []
  }
 ],
 "metadata": {
  "kernelspec": {
   "display_name": "Python 2",
   "language": "python",
   "name": "python2"
  },
  "language_info": {
   "codemirror_mode": {
    "name": "ipython",
    "version": 2
   },
   "file_extension": ".py",
   "mimetype": "text/x-python",
   "name": "python",
   "nbconvert_exporter": "python",
   "pygments_lexer": "ipython2",
   "version": "2.7.14"
  }
 },
 "nbformat": 4,
 "nbformat_minor": 2
}
